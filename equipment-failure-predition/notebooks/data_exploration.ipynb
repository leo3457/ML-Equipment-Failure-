import pandas as pd
import matplotlib.pyplot as plt
import seaborn as sns

# Load dataset
data_path = '../data/sensor_data.csv'
df = pd.read_csv(data_path)

# Display basic info and statistics
print(df.info())
print(df.describe())

# Check for missing values
print("Missing values per column:\n", df.isnull().sum())

# Visualize sensor data distributions
plt.figure(figsize=(12, 6))
sns.histplot(df['temperature'], bins=30, kde=True, label='Temperature')
sns.histplot(df['vibration'], bins=30, kde=True, label='Vibration')
sns.histplot(df['pressure'], bins=30, kde=True, label='Pressure')
plt.legend()
plt.title("Sensor Data Distributions")
plt.show()

# Correlation heatmap
plt.figure(figsize=(8, 6))
sns.heatmap(df.corr(), annot=True, cmap='coolwarm', fmt='.2f')
plt.title("Feature Correlations")
plt.show()

# Countplot of failures
plt.figure(figsize=(6, 4))
sns.countplot(x='failure', data=df)
plt.title("Failure Class Distribution")
plt.show()

